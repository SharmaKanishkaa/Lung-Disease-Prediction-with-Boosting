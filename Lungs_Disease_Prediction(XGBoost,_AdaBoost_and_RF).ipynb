{
  "metadata": {
    "kernelspec": {
      "name": "python3",
      "display_name": "Python 3",
      "language": "python"
    },
    "language_info": {
      "name": "python",
      "version": "3.10.12",
      "mimetype": "text/x-python",
      "codemirror_mode": {
        "name": "ipython",
        "version": 3
      },
      "pygments_lexer": "ipython3",
      "nbconvert_exporter": "python",
      "file_extension": ".py"
    },
    "kaggle": {
      "accelerator": "none",
      "dataSources": [
        {
          "sourceId": 4510352,
          "sourceType": "datasetVersion",
          "datasetId": 2636109
        }
      ],
      "dockerImageVersionId": 30626,
      "isInternetEnabled": true,
      "language": "python",
      "sourceType": "notebook",
      "isGpuEnabled": false
    },
    "colab": {
      "name": "Lungs Disease Prediction(XGBoost, AdaBoost and RF)",
      "provenance": [],
      "include_colab_link": true
    }
  },
  "nbformat_minor": 0,
  "nbformat": 4,
  "cells": [
    {
      "cell_type": "markdown",
      "metadata": {
        "id": "view-in-github",
        "colab_type": "text"
      },
      "source": [
        "<a href=\"https://colab.research.google.com/github/SharmaKanishkaa/Lung-Disease-Prediction-with-Boosting/blob/main/Lungs_Disease_Prediction(XGBoost%2C_AdaBoost_and_RF).ipynb\" target=\"_parent\"><img src=\"https://colab.research.google.com/assets/colab-badge.svg\" alt=\"Open In Colab\"/></a>"
      ]
    },
    {
      "cell_type": "code",
      "source": [
        "import pandas as pd\n",
        "import numpy as np\n",
        "import seaborn as sns\n",
        "import matplotlib.pyplot as plt\n",
        "%matplotlib inline"
      ],
      "metadata": {
        "execution": {
          "iopub.status.busy": "2024-11-24T06:30:44.475497Z",
          "iopub.execute_input": "2024-11-24T06:30:44.476546Z",
          "iopub.status.idle": "2024-11-24T06:30:46.293244Z",
          "shell.execute_reply.started": "2024-11-24T06:30:44.476494Z",
          "shell.execute_reply": "2024-11-24T06:30:46.292161Z"
        },
        "trusted": true,
        "id": "0X3c123B3fFt"
      },
      "outputs": [],
      "execution_count": null
    },
    {
      "cell_type": "code",
      "source": [
        "df=pd.read_csv('/kaggle/input/cancer-patients-and-air-pollution-a-new-link/cancer patient data sets.csv')"
      ],
      "metadata": {
        "execution": {
          "iopub.status.busy": "2024-11-24T06:30:46.29494Z",
          "iopub.execute_input": "2024-11-24T06:30:46.2954Z",
          "iopub.status.idle": "2024-11-24T06:30:46.328494Z",
          "shell.execute_reply.started": "2024-11-24T06:30:46.295363Z",
          "shell.execute_reply": "2024-11-24T06:30:46.327393Z"
        },
        "trusted": true,
        "id": "2goFQNXf3fFu"
      },
      "outputs": [],
      "execution_count": null
    },
    {
      "cell_type": "code",
      "source": [
        "df.head()"
      ],
      "metadata": {
        "execution": {
          "iopub.status.busy": "2024-11-24T06:30:46.329833Z",
          "iopub.execute_input": "2024-11-24T06:30:46.330217Z",
          "iopub.status.idle": "2024-11-24T06:30:46.370222Z",
          "shell.execute_reply.started": "2024-11-24T06:30:46.330183Z",
          "shell.execute_reply": "2024-11-24T06:30:46.369097Z"
        },
        "trusted": true,
        "id": "5hdx2jix3fFv",
        "outputId": "4b186b5c-752e-42f5-bd12-973b2b21eea9"
      },
      "outputs": [
        {
          "execution_count": 3,
          "output_type": "execute_result",
          "data": {
            "text/plain": "   index Patient Id  Age  Gender  Air Pollution  Alcohol use  Dust Allergy  \\\n0      0         P1   33       1              2            4             5   \n1      1        P10   17       1              3            1             5   \n2      2       P100   35       1              4            5             6   \n3      3      P1000   37       1              7            7             7   \n4      4       P101   46       1              6            8             7   \n\n   OccuPational Hazards  Genetic Risk  chronic Lung Disease  ...  Fatigue  \\\n0                     4             3                     2  ...        3   \n1                     3             4                     2  ...        1   \n2                     5             5                     4  ...        8   \n3                     7             6                     7  ...        4   \n4                     7             7                     6  ...        3   \n\n   Weight Loss  Shortness of Breath  Wheezing  Swallowing Difficulty  \\\n0            4                    2         2                      3   \n1            3                    7         8                      6   \n2            7                    9         2                      1   \n3            2                    3         1                      4   \n4            2                    4         1                      4   \n\n   Clubbing of Finger Nails  Frequent Cold  Dry Cough  Snoring   Level  \n0                         1              2          3        4     Low  \n1                         2              1          7        2  Medium  \n2                         4              6          7        2    High  \n3                         5              6          7        5    High  \n4                         2              4          2        3    High  \n\n[5 rows x 26 columns]",
            "text/html": "<div>\n<style scoped>\n    .dataframe tbody tr th:only-of-type {\n        vertical-align: middle;\n    }\n\n    .dataframe tbody tr th {\n        vertical-align: top;\n    }\n\n    .dataframe thead th {\n        text-align: right;\n    }\n</style>\n<table border=\"1\" class=\"dataframe\">\n  <thead>\n    <tr style=\"text-align: right;\">\n      <th></th>\n      <th>index</th>\n      <th>Patient Id</th>\n      <th>Age</th>\n      <th>Gender</th>\n      <th>Air Pollution</th>\n      <th>Alcohol use</th>\n      <th>Dust Allergy</th>\n      <th>OccuPational Hazards</th>\n      <th>Genetic Risk</th>\n      <th>chronic Lung Disease</th>\n      <th>...</th>\n      <th>Fatigue</th>\n      <th>Weight Loss</th>\n      <th>Shortness of Breath</th>\n      <th>Wheezing</th>\n      <th>Swallowing Difficulty</th>\n      <th>Clubbing of Finger Nails</th>\n      <th>Frequent Cold</th>\n      <th>Dry Cough</th>\n      <th>Snoring</th>\n      <th>Level</th>\n    </tr>\n  </thead>\n  <tbody>\n    <tr>\n      <th>0</th>\n      <td>0</td>\n      <td>P1</td>\n      <td>33</td>\n      <td>1</td>\n      <td>2</td>\n      <td>4</td>\n      <td>5</td>\n      <td>4</td>\n      <td>3</td>\n      <td>2</td>\n      <td>...</td>\n      <td>3</td>\n      <td>4</td>\n      <td>2</td>\n      <td>2</td>\n      <td>3</td>\n      <td>1</td>\n      <td>2</td>\n      <td>3</td>\n      <td>4</td>\n      <td>Low</td>\n    </tr>\n    <tr>\n      <th>1</th>\n      <td>1</td>\n      <td>P10</td>\n      <td>17</td>\n      <td>1</td>\n      <td>3</td>\n      <td>1</td>\n      <td>5</td>\n      <td>3</td>\n      <td>4</td>\n      <td>2</td>\n      <td>...</td>\n      <td>1</td>\n      <td>3</td>\n      <td>7</td>\n      <td>8</td>\n      <td>6</td>\n      <td>2</td>\n      <td>1</td>\n      <td>7</td>\n      <td>2</td>\n      <td>Medium</td>\n    </tr>\n    <tr>\n      <th>2</th>\n      <td>2</td>\n      <td>P100</td>\n      <td>35</td>\n      <td>1</td>\n      <td>4</td>\n      <td>5</td>\n      <td>6</td>\n      <td>5</td>\n      <td>5</td>\n      <td>4</td>\n      <td>...</td>\n      <td>8</td>\n      <td>7</td>\n      <td>9</td>\n      <td>2</td>\n      <td>1</td>\n      <td>4</td>\n      <td>6</td>\n      <td>7</td>\n      <td>2</td>\n      <td>High</td>\n    </tr>\n    <tr>\n      <th>3</th>\n      <td>3</td>\n      <td>P1000</td>\n      <td>37</td>\n      <td>1</td>\n      <td>7</td>\n      <td>7</td>\n      <td>7</td>\n      <td>7</td>\n      <td>6</td>\n      <td>7</td>\n      <td>...</td>\n      <td>4</td>\n      <td>2</td>\n      <td>3</td>\n      <td>1</td>\n      <td>4</td>\n      <td>5</td>\n      <td>6</td>\n      <td>7</td>\n      <td>5</td>\n      <td>High</td>\n    </tr>\n    <tr>\n      <th>4</th>\n      <td>4</td>\n      <td>P101</td>\n      <td>46</td>\n      <td>1</td>\n      <td>6</td>\n      <td>8</td>\n      <td>7</td>\n      <td>7</td>\n      <td>7</td>\n      <td>6</td>\n      <td>...</td>\n      <td>3</td>\n      <td>2</td>\n      <td>4</td>\n      <td>1</td>\n      <td>4</td>\n      <td>2</td>\n      <td>4</td>\n      <td>2</td>\n      <td>3</td>\n      <td>High</td>\n    </tr>\n  </tbody>\n</table>\n<p>5 rows × 26 columns</p>\n</div>"
          },
          "metadata": {}
        }
      ],
      "execution_count": null
    },
    {
      "cell_type": "code",
      "source": [
        "df.info()"
      ],
      "metadata": {
        "execution": {
          "iopub.status.busy": "2024-11-24T06:30:46.373084Z",
          "iopub.execute_input": "2024-11-24T06:30:46.373539Z",
          "iopub.status.idle": "2024-11-24T06:30:46.489026Z",
          "shell.execute_reply.started": "2024-11-24T06:30:46.37349Z",
          "shell.execute_reply": "2024-11-24T06:30:46.487781Z"
        },
        "trusted": true,
        "id": "qM3_TdoJ3fFw",
        "outputId": "90b022b8-2848-427d-f0bd-6221dd2894dd"
      },
      "outputs": [
        {
          "name": "stdout",
          "text": "<class 'pandas.core.frame.DataFrame'>\nRangeIndex: 1000 entries, 0 to 999\nData columns (total 26 columns):\n #   Column                    Non-Null Count  Dtype \n---  ------                    --------------  ----- \n 0   index                     1000 non-null   int64 \n 1   Patient Id                1000 non-null   object\n 2   Age                       1000 non-null   int64 \n 3   Gender                    1000 non-null   int64 \n 4   Air Pollution             1000 non-null   int64 \n 5   Alcohol use               1000 non-null   int64 \n 6   Dust Allergy              1000 non-null   int64 \n 7   OccuPational Hazards      1000 non-null   int64 \n 8   Genetic Risk              1000 non-null   int64 \n 9   chronic Lung Disease      1000 non-null   int64 \n 10  Balanced Diet             1000 non-null   int64 \n 11  Obesity                   1000 non-null   int64 \n 12  Smoking                   1000 non-null   int64 \n 13  Passive Smoker            1000 non-null   int64 \n 14  Chest Pain                1000 non-null   int64 \n 15  Coughing of Blood         1000 non-null   int64 \n 16  Fatigue                   1000 non-null   int64 \n 17  Weight Loss               1000 non-null   int64 \n 18  Shortness of Breath       1000 non-null   int64 \n 19  Wheezing                  1000 non-null   int64 \n 20  Swallowing Difficulty     1000 non-null   int64 \n 21  Clubbing of Finger Nails  1000 non-null   int64 \n 22  Frequent Cold             1000 non-null   int64 \n 23  Dry Cough                 1000 non-null   int64 \n 24  Snoring                   1000 non-null   int64 \n 25  Level                     1000 non-null   object\ndtypes: int64(24), object(2)\nmemory usage: 203.2+ KB\n",
          "output_type": "stream"
        }
      ],
      "execution_count": null
    },
    {
      "cell_type": "code",
      "source": [
        "df.describe()"
      ],
      "metadata": {
        "execution": {
          "iopub.status.busy": "2024-11-24T06:30:46.490663Z",
          "iopub.execute_input": "2024-11-24T06:30:46.491109Z",
          "iopub.status.idle": "2024-11-24T06:30:46.594871Z",
          "shell.execute_reply.started": "2024-11-24T06:30:46.491066Z",
          "shell.execute_reply": "2024-11-24T06:30:46.59376Z"
        },
        "trusted": true,
        "id": "WLLJpj-33fFx",
        "outputId": "2cc2028a-a85b-4abd-b1dc-702b9d1d358d"
      },
      "outputs": [
        {
          "execution_count": 5,
          "output_type": "execute_result",
          "data": {
            "text/plain": "             index          Age       Gender  Air Pollution  Alcohol use  \\\ncount  1000.000000  1000.000000  1000.000000      1000.0000  1000.000000   \nmean    499.500000    37.174000     1.402000         3.8400     4.563000   \nstd     288.819436    12.005493     0.490547         2.0304     2.620477   \nmin       0.000000    14.000000     1.000000         1.0000     1.000000   \n25%     249.750000    27.750000     1.000000         2.0000     2.000000   \n50%     499.500000    36.000000     1.000000         3.0000     5.000000   \n75%     749.250000    45.000000     2.000000         6.0000     7.000000   \nmax     999.000000    73.000000     2.000000         8.0000     8.000000   \n\n       Dust Allergy  OccuPational Hazards  Genetic Risk  chronic Lung Disease  \\\ncount   1000.000000           1000.000000   1000.000000           1000.000000   \nmean       5.165000              4.840000      4.580000              4.380000   \nstd        1.980833              2.107805      2.126999              1.848518   \nmin        1.000000              1.000000      1.000000              1.000000   \n25%        4.000000              3.000000      2.000000              3.000000   \n50%        6.000000              5.000000      5.000000              4.000000   \n75%        7.000000              7.000000      7.000000              6.000000   \nmax        8.000000              8.000000      7.000000              7.000000   \n\n       Balanced Diet  ...  Coughing of Blood      Fatigue  Weight Loss  \\\ncount    1000.000000  ...        1000.000000  1000.000000  1000.000000   \nmean        4.491000  ...           4.859000     3.856000     3.855000   \nstd         2.135528  ...           2.427965     2.244616     2.206546   \nmin         1.000000  ...           1.000000     1.000000     1.000000   \n25%         2.000000  ...           3.000000     2.000000     2.000000   \n50%         4.000000  ...           4.000000     3.000000     3.000000   \n75%         7.000000  ...           7.000000     5.000000     6.000000   \nmax         7.000000  ...           9.000000     9.000000     8.000000   \n\n       Shortness of Breath     Wheezing  Swallowing Difficulty  \\\ncount          1000.000000  1000.000000            1000.000000   \nmean              4.240000     3.777000               3.746000   \nstd               2.285087     2.041921               2.270383   \nmin               1.000000     1.000000               1.000000   \n25%               2.000000     2.000000               2.000000   \n50%               4.000000     4.000000               4.000000   \n75%               6.000000     5.000000               5.000000   \nmax               9.000000     8.000000               8.000000   \n\n       Clubbing of Finger Nails  Frequent Cold    Dry Cough      Snoring  \ncount               1000.000000    1000.000000  1000.000000  1000.000000  \nmean                   3.923000       3.536000     3.853000     2.926000  \nstd                    2.388048       1.832502     2.039007     1.474686  \nmin                    1.000000       1.000000     1.000000     1.000000  \n25%                    2.000000       2.000000     2.000000     2.000000  \n50%                    4.000000       3.000000     4.000000     3.000000  \n75%                    5.000000       5.000000     6.000000     4.000000  \nmax                    9.000000       7.000000     7.000000     7.000000  \n\n[8 rows x 24 columns]",
            "text/html": "<div>\n<style scoped>\n    .dataframe tbody tr th:only-of-type {\n        vertical-align: middle;\n    }\n\n    .dataframe tbody tr th {\n        vertical-align: top;\n    }\n\n    .dataframe thead th {\n        text-align: right;\n    }\n</style>\n<table border=\"1\" class=\"dataframe\">\n  <thead>\n    <tr style=\"text-align: right;\">\n      <th></th>\n      <th>index</th>\n      <th>Age</th>\n      <th>Gender</th>\n      <th>Air Pollution</th>\n      <th>Alcohol use</th>\n      <th>Dust Allergy</th>\n      <th>OccuPational Hazards</th>\n      <th>Genetic Risk</th>\n      <th>chronic Lung Disease</th>\n      <th>Balanced Diet</th>\n      <th>...</th>\n      <th>Coughing of Blood</th>\n      <th>Fatigue</th>\n      <th>Weight Loss</th>\n      <th>Shortness of Breath</th>\n      <th>Wheezing</th>\n      <th>Swallowing Difficulty</th>\n      <th>Clubbing of Finger Nails</th>\n      <th>Frequent Cold</th>\n      <th>Dry Cough</th>\n      <th>Snoring</th>\n    </tr>\n  </thead>\n  <tbody>\n    <tr>\n      <th>count</th>\n      <td>1000.000000</td>\n      <td>1000.000000</td>\n      <td>1000.000000</td>\n      <td>1000.0000</td>\n      <td>1000.000000</td>\n      <td>1000.000000</td>\n      <td>1000.000000</td>\n      <td>1000.000000</td>\n      <td>1000.000000</td>\n      <td>1000.000000</td>\n      <td>...</td>\n      <td>1000.000000</td>\n      <td>1000.000000</td>\n      <td>1000.000000</td>\n      <td>1000.000000</td>\n      <td>1000.000000</td>\n      <td>1000.000000</td>\n      <td>1000.000000</td>\n      <td>1000.000000</td>\n      <td>1000.000000</td>\n      <td>1000.000000</td>\n    </tr>\n    <tr>\n      <th>mean</th>\n      <td>499.500000</td>\n      <td>37.174000</td>\n      <td>1.402000</td>\n      <td>3.8400</td>\n      <td>4.563000</td>\n      <td>5.165000</td>\n      <td>4.840000</td>\n      <td>4.580000</td>\n      <td>4.380000</td>\n      <td>4.491000</td>\n      <td>...</td>\n      <td>4.859000</td>\n      <td>3.856000</td>\n      <td>3.855000</td>\n      <td>4.240000</td>\n      <td>3.777000</td>\n      <td>3.746000</td>\n      <td>3.923000</td>\n      <td>3.536000</td>\n      <td>3.853000</td>\n      <td>2.926000</td>\n    </tr>\n    <tr>\n      <th>std</th>\n      <td>288.819436</td>\n      <td>12.005493</td>\n      <td>0.490547</td>\n      <td>2.0304</td>\n      <td>2.620477</td>\n      <td>1.980833</td>\n      <td>2.107805</td>\n      <td>2.126999</td>\n      <td>1.848518</td>\n      <td>2.135528</td>\n      <td>...</td>\n      <td>2.427965</td>\n      <td>2.244616</td>\n      <td>2.206546</td>\n      <td>2.285087</td>\n      <td>2.041921</td>\n      <td>2.270383</td>\n      <td>2.388048</td>\n      <td>1.832502</td>\n      <td>2.039007</td>\n      <td>1.474686</td>\n    </tr>\n    <tr>\n      <th>min</th>\n      <td>0.000000</td>\n      <td>14.000000</td>\n      <td>1.000000</td>\n      <td>1.0000</td>\n      <td>1.000000</td>\n      <td>1.000000</td>\n      <td>1.000000</td>\n      <td>1.000000</td>\n      <td>1.000000</td>\n      <td>1.000000</td>\n      <td>...</td>\n      <td>1.000000</td>\n      <td>1.000000</td>\n      <td>1.000000</td>\n      <td>1.000000</td>\n      <td>1.000000</td>\n      <td>1.000000</td>\n      <td>1.000000</td>\n      <td>1.000000</td>\n      <td>1.000000</td>\n      <td>1.000000</td>\n    </tr>\n    <tr>\n      <th>25%</th>\n      <td>249.750000</td>\n      <td>27.750000</td>\n      <td>1.000000</td>\n      <td>2.0000</td>\n      <td>2.000000</td>\n      <td>4.000000</td>\n      <td>3.000000</td>\n      <td>2.000000</td>\n      <td>3.000000</td>\n      <td>2.000000</td>\n      <td>...</td>\n      <td>3.000000</td>\n      <td>2.000000</td>\n      <td>2.000000</td>\n      <td>2.000000</td>\n      <td>2.000000</td>\n      <td>2.000000</td>\n      <td>2.000000</td>\n      <td>2.000000</td>\n      <td>2.000000</td>\n      <td>2.000000</td>\n    </tr>\n    <tr>\n      <th>50%</th>\n      <td>499.500000</td>\n      <td>36.000000</td>\n      <td>1.000000</td>\n      <td>3.0000</td>\n      <td>5.000000</td>\n      <td>6.000000</td>\n      <td>5.000000</td>\n      <td>5.000000</td>\n      <td>4.000000</td>\n      <td>4.000000</td>\n      <td>...</td>\n      <td>4.000000</td>\n      <td>3.000000</td>\n      <td>3.000000</td>\n      <td>4.000000</td>\n      <td>4.000000</td>\n      <td>4.000000</td>\n      <td>4.000000</td>\n      <td>3.000000</td>\n      <td>4.000000</td>\n      <td>3.000000</td>\n    </tr>\n    <tr>\n      <th>75%</th>\n      <td>749.250000</td>\n      <td>45.000000</td>\n      <td>2.000000</td>\n      <td>6.0000</td>\n      <td>7.000000</td>\n      <td>7.000000</td>\n      <td>7.000000</td>\n      <td>7.000000</td>\n      <td>6.000000</td>\n      <td>7.000000</td>\n      <td>...</td>\n      <td>7.000000</td>\n      <td>5.000000</td>\n      <td>6.000000</td>\n      <td>6.000000</td>\n      <td>5.000000</td>\n      <td>5.000000</td>\n      <td>5.000000</td>\n      <td>5.000000</td>\n      <td>6.000000</td>\n      <td>4.000000</td>\n    </tr>\n    <tr>\n      <th>max</th>\n      <td>999.000000</td>\n      <td>73.000000</td>\n      <td>2.000000</td>\n      <td>8.0000</td>\n      <td>8.000000</td>\n      <td>8.000000</td>\n      <td>8.000000</td>\n      <td>7.000000</td>\n      <td>7.000000</td>\n      <td>7.000000</td>\n      <td>...</td>\n      <td>9.000000</td>\n      <td>9.000000</td>\n      <td>8.000000</td>\n      <td>9.000000</td>\n      <td>8.000000</td>\n      <td>8.000000</td>\n      <td>9.000000</td>\n      <td>7.000000</td>\n      <td>7.000000</td>\n      <td>7.000000</td>\n    </tr>\n  </tbody>\n</table>\n<p>8 rows × 24 columns</p>\n</div>"
          },
          "metadata": {}
        }
      ],
      "execution_count": null
    },
    {
      "cell_type": "code",
      "source": [
        "df.shape"
      ],
      "metadata": {
        "execution": {
          "iopub.status.busy": "2024-11-24T06:30:46.596291Z",
          "iopub.execute_input": "2024-11-24T06:30:46.59679Z",
          "iopub.status.idle": "2024-11-24T06:30:46.603664Z",
          "shell.execute_reply.started": "2024-11-24T06:30:46.596754Z",
          "shell.execute_reply": "2024-11-24T06:30:46.60262Z"
        },
        "trusted": true,
        "id": "qScuOR9w3fFy",
        "outputId": "4f106172-bd63-4a50-d79c-327b1ce12672"
      },
      "outputs": [
        {
          "execution_count": 6,
          "output_type": "execute_result",
          "data": {
            "text/plain": "(1000, 26)"
          },
          "metadata": {}
        }
      ],
      "execution_count": null
    },
    {
      "cell_type": "code",
      "source": [
        "df.isnull().sum()"
      ],
      "metadata": {
        "execution": {
          "iopub.status.busy": "2024-11-24T06:30:46.604777Z",
          "iopub.execute_input": "2024-11-24T06:30:46.605243Z",
          "iopub.status.idle": "2024-11-24T06:30:46.626313Z",
          "shell.execute_reply.started": "2024-11-24T06:30:46.605203Z",
          "shell.execute_reply": "2024-11-24T06:30:46.625123Z"
        },
        "trusted": true,
        "id": "sTrRRU5T3fFz",
        "outputId": "8c490b74-e178-441e-a427-df1a22164f2d"
      },
      "outputs": [
        {
          "execution_count": 7,
          "output_type": "execute_result",
          "data": {
            "text/plain": "index                       0\nPatient Id                  0\nAge                         0\nGender                      0\nAir Pollution               0\nAlcohol use                 0\nDust Allergy                0\nOccuPational Hazards        0\nGenetic Risk                0\nchronic Lung Disease        0\nBalanced Diet               0\nObesity                     0\nSmoking                     0\nPassive Smoker              0\nChest Pain                  0\nCoughing of Blood           0\nFatigue                     0\nWeight Loss                 0\nShortness of Breath         0\nWheezing                    0\nSwallowing Difficulty       0\nClubbing of Finger Nails    0\nFrequent Cold               0\nDry Cough                   0\nSnoring                     0\nLevel                       0\ndtype: int64"
          },
          "metadata": {}
        }
      ],
      "execution_count": null
    },
    {
      "cell_type": "code",
      "source": [
        "sns.barplot(y='Alcohol use', x ='Swallowing Difficulty', data=df)"
      ],
      "metadata": {
        "execution": {
          "iopub.status.busy": "2024-11-24T06:30:46.628179Z",
          "iopub.execute_input": "2024-11-24T06:30:46.628931Z",
          "iopub.status.idle": "2024-11-24T06:30:47.230681Z",
          "shell.execute_reply.started": "2024-11-24T06:30:46.62889Z",
          "shell.execute_reply": "2024-11-24T06:30:47.229653Z"
        },
        "trusted": true,
        "id": "-fAVoTU53fF0",
        "outputId": "c2205f5f-8824-4794-d88b-4140a874cc0a"
      },
      "outputs": [
        {
          "execution_count": 8,
          "output_type": "execute_result",
          "data": {
            "text/plain": "<Axes: xlabel='Swallowing Difficulty', ylabel='Alcohol use'>"
          },
          "metadata": {}
        },
        {
          "output_type": "display_data",
          "data": {
            "text/plain": "<Figure size 640x480 with 1 Axes>",
            "image/png": "[encoded data removed]"
          },
          "metadata": {}
        }
      ],
      "execution_count": null
    },
    {
      "cell_type": "code",
      "source": [
        "sns.barplot(y='Weight Loss', x ='Smoking', data=df)"
      ],
      "metadata": {
        "execution": {
          "iopub.status.busy": "2024-11-24T06:30:47.232294Z",
          "iopub.execute_input": "2024-11-24T06:30:47.232739Z",
          "iopub.status.idle": "2024-11-24T06:30:47.691474Z",
          "shell.execute_reply.started": "2024-11-24T06:30:47.232702Z",
          "shell.execute_reply": "2024-11-24T06:30:47.690506Z"
        },
        "trusted": true,
        "id": "8zlL1ovr3fF1",
        "outputId": "241dcd65-65ae-4549-87f1-8007ead9e54c"
      },
      "outputs": [
        {
          "execution_count": 9,
          "output_type": "execute_result",
          "data": {
            "text/plain": "<Axes: xlabel='Smoking', ylabel='Weight Loss'>"
          },
          "metadata": {}
        },
        {
          "output_type": "display_data",
          "data": {
            "text/plain": "<Figure size 640x480 with 1 Axes>",
            "image/png": "[encoded data removed]"
          },
          "metadata": {}
        }
      ],
      "execution_count": null
    },
    {
      "cell_type": "code",
      "source": [
        "plt.scatter(y='Weight Loss', x ='Smoking', data=df)"
      ],
      "metadata": {
        "execution": {
          "iopub.status.busy": "2024-11-24T06:30:47.696135Z",
          "iopub.execute_input": "2024-11-24T06:30:47.696498Z",
          "iopub.status.idle": "2024-11-24T06:30:48.020674Z",
          "shell.execute_reply.started": "2024-11-24T06:30:47.696468Z",
          "shell.execute_reply": "2024-11-24T06:30:48.0196Z"
        },
        "trusted": true,
        "id": "aduTcNiX3fF2",
        "outputId": "e71248f1-966b-447c-f0ca-c53bdd6b5ebf"
      },
      "outputs": [
        {
          "execution_count": 10,
          "output_type": "execute_result",
          "data": {
            "text/plain": "<matplotlib.collections.PathCollection at 0x7957d2837d60>"
          },
          "metadata": {}
        },
        {
          "output_type": "display_data",
          "data": {
            "text/plain": "<Figure size 640x480 with 1 Axes>",
            "image/png": "[encoded data removed]"
          },
          "metadata": {}
        }
      ],
      "execution_count": null
    },
    {
      "cell_type": "code",
      "source": [
        "sns.barplot(y='Level', x ='Smoking', data=df)"
      ],
      "metadata": {
        "execution": {
          "iopub.status.busy": "2024-11-24T06:30:48.021963Z",
          "iopub.execute_input": "2024-11-24T06:30:48.022275Z",
          "iopub.status.idle": "2024-11-24T06:30:48.35262Z",
          "shell.execute_reply.started": "2024-11-24T06:30:48.022247Z",
          "shell.execute_reply": "2024-11-24T06:30:48.35145Z"
        },
        "trusted": true,
        "id": "Q3ultqW33fF2",
        "outputId": "0391e033-73a9-4f42-88e2-44d3c4879fef"
      },
      "outputs": [
        {
          "execution_count": 11,
          "output_type": "execute_result",
          "data": {
            "text/plain": "<Axes: xlabel='Smoking', ylabel='Level'>"
          },
          "metadata": {}
        },
        {
          "output_type": "display_data",
          "data": {
            "text/plain": "<Figure size 640x480 with 1 Axes>",
            "image/png": "[encoded data removed]"
          },
          "metadata": {}
        }
      ],
      "execution_count": null
    },
    {
      "cell_type": "code",
      "source": [
        "labels= ['1','2','3','4','5','6','7','8']\n",
        "\n",
        "colors=['blue', 'yellow', 'green', 'orange','red','pink','brown','grey']\n",
        "\n",
        "plt.pie(x=df['Smoking'].value_counts() ,labels=labels, colors=colors)"
      ],
      "metadata": {
        "execution": {
          "iopub.status.busy": "2024-11-24T06:30:48.353949Z",
          "iopub.execute_input": "2024-11-24T06:30:48.354263Z",
          "iopub.status.idle": "2024-11-24T06:30:48.567272Z",
          "shell.execute_reply.started": "2024-11-24T06:30:48.354223Z",
          "shell.execute_reply": "2024-11-24T06:30:48.565479Z"
        },
        "trusted": true,
        "id": "9K1V1D7Y3fF3",
        "outputId": "bfc9ec28-e7cb-4f92-b3b3-b40638302fe6"
      },
      "outputs": [
        {
          "execution_count": 12,
          "output_type": "execute_result",
          "data": {
            "text/plain": "([<matplotlib.patches.Wedge at 0x7957cfe9a440>,\n  <matplotlib.patches.Wedge at 0x7957d288f1f0>,\n  <matplotlib.patches.Wedge at 0x7957cfe9a9b0>,\n  <matplotlib.patches.Wedge at 0x7957cfe9af20>,\n  <matplotlib.patches.Wedge at 0x7957cfe9b2e0>,\n  <matplotlib.patches.Wedge at 0x7957cfe9b760>,\n  <matplotlib.patches.Wedge at 0x7957cfe9bbe0>,\n  <matplotlib.patches.Wedge at 0x7957cfedc0a0>],\n [Text(0.8431423011403422, 0.706477926072548, '1'),\n  Text(-0.5024662023210625, 0.9785334514083048, '2'),\n  Text(-1.0917539039082917, -0.1344373954709198, '3'),\n  Text(-0.366101483824868, -1.0372895948293466, '4'),\n  Text(0.5086045630381768, -0.9753570620325387, '5'),\n  Text(0.8939636055409079, -0.6409594932351812, '6'),\n  Text(1.0662956382069828, -0.27021031057449163, '7'),\n  Text(1.0994572176396824, -0.034551795611921995, '8')])"
          },
          "metadata": {}
        },
        {
          "output_type": "display_data",
          "data": {
            "text/plain": "<Figure size 640x480 with 1 Axes>",
            "image/png": "[encoded data removed]"
          },
          "metadata": {}
        }
      ],
      "execution_count": null
    },
    {
      "cell_type": "code",
      "source": [
        "from sklearn.preprocessing import LabelEncoder\n",
        "encoder=LabelEncoder()\n",
        "df['Level'] = encoder.fit_transform(df['Level'])"
      ],
      "metadata": {
        "execution": {
          "iopub.status.busy": "2024-11-24T06:30:48.568956Z",
          "iopub.execute_input": "2024-11-24T06:30:48.569543Z",
          "iopub.status.idle": "2024-11-24T06:30:48.755207Z",
          "shell.execute_reply.started": "2024-11-24T06:30:48.569491Z",
          "shell.execute_reply": "2024-11-24T06:30:48.753962Z"
        },
        "trusted": true,
        "id": "me63qnqQ3fF4"
      },
      "outputs": [],
      "execution_count": null
    },
    {
      "cell_type": "code",
      "source": [
        "df=df.drop('Patient Id',axis=1)"
      ],
      "metadata": {
        "execution": {
          "iopub.status.busy": "2024-11-24T06:30:48.756823Z",
          "iopub.execute_input": "2024-11-24T06:30:48.757222Z",
          "iopub.status.idle": "2024-11-24T06:30:48.766489Z",
          "shell.execute_reply.started": "2024-11-24T06:30:48.757185Z",
          "shell.execute_reply": "2024-11-24T06:30:48.765194Z"
        },
        "trusted": true,
        "id": "wGeYDxHZ3fF5"
      },
      "outputs": [],
      "execution_count": null
    },
    {
      "cell_type": "code",
      "source": [
        "X=df.drop('Level',axis=1)\n",
        "y=df['Level']"
      ],
      "metadata": {
        "execution": {
          "iopub.status.busy": "2024-11-24T06:30:48.768013Z",
          "iopub.execute_input": "2024-11-24T06:30:48.768507Z",
          "iopub.status.idle": "2024-11-24T06:30:48.777638Z",
          "shell.execute_reply.started": "2024-11-24T06:30:48.768468Z",
          "shell.execute_reply": "2024-11-24T06:30:48.776465Z"
        },
        "trusted": true,
        "id": "BpsOuBeB3fF5"
      },
      "outputs": [],
      "execution_count": null
    },
    {
      "cell_type": "code",
      "source": [
        "from sklearn.model_selection import train_test_split\n",
        "from sklearn.metrics import accuracy_score, classification_report,confusion_matrix"
      ],
      "metadata": {
        "execution": {
          "iopub.status.busy": "2024-11-24T06:30:48.7791Z",
          "iopub.execute_input": "2024-11-24T06:30:48.779536Z",
          "iopub.status.idle": "2024-11-24T06:30:48.902737Z",
          "shell.execute_reply.started": "2024-11-24T06:30:48.779499Z",
          "shell.execute_reply": "2024-11-24T06:30:48.901439Z"
        },
        "trusted": true,
        "id": "rGFOJrYr3fF5"
      },
      "outputs": [],
      "execution_count": null
    },
    {
      "cell_type": "code",
      "source": [
        "X_train, X_test, y_train, y_test = train_test_split(X, y, test_size=0.2, random_state=42)\n"
      ],
      "metadata": {
        "execution": {
          "iopub.status.busy": "2024-11-24T06:30:48.904078Z",
          "iopub.execute_input": "2024-11-24T06:30:48.904409Z",
          "iopub.status.idle": "2024-11-24T06:30:48.912663Z",
          "shell.execute_reply.started": "2024-11-24T06:30:48.904371Z",
          "shell.execute_reply": "2024-11-24T06:30:48.911438Z"
        },
        "trusted": true,
        "id": "FR-vybJI3fF5"
      },
      "outputs": [],
      "execution_count": null
    },
    {
      "cell_type": "code",
      "source": [
        "import xgboost as xgb"
      ],
      "metadata": {
        "execution": {
          "iopub.status.busy": "2024-11-24T06:30:48.914195Z",
          "iopub.execute_input": "2024-11-24T06:30:48.91467Z",
          "iopub.status.idle": "2024-11-24T06:30:49.122778Z",
          "shell.execute_reply.started": "2024-11-24T06:30:48.914619Z",
          "shell.execute_reply": "2024-11-24T06:30:49.121637Z"
        },
        "trusted": true,
        "id": "w3xjPozw3fF6"
      },
      "outputs": [],
      "execution_count": null
    },
    {
      "cell_type": "code",
      "source": [
        "# Convert the data into DMatrix format\n",
        "dtrain = xgb.DMatrix(X_train, label=y_train)\n",
        "dtest = xgb.DMatrix(X_test, label=y_test)"
      ],
      "metadata": {
        "execution": {
          "iopub.status.busy": "2024-11-24T06:30:49.123961Z",
          "iopub.execute_input": "2024-11-24T06:30:49.124261Z",
          "iopub.status.idle": "2024-11-24T06:30:49.167915Z",
          "shell.execute_reply.started": "2024-11-24T06:30:49.124235Z",
          "shell.execute_reply": "2024-11-24T06:30:49.166405Z"
        },
        "trusted": true,
        "id": "E9oJnfFC3fF6"
      },
      "outputs": [],
      "execution_count": null
    },
    {
      "cell_type": "code",
      "source": [
        "# Set the parameters for XGBoost\n",
        "params = {\n",
        "    'objective': 'multi:softmax',\n",
        "    'num_class': 3,\n",
        "    'max_depth': 3,\n",
        "    'eta': 0.1,\n",
        "    'eval_metric': 'merror'\n",
        "}"
      ],
      "metadata": {
        "execution": {
          "iopub.status.busy": "2024-11-24T06:30:49.168872Z",
          "iopub.execute_input": "2024-11-24T06:30:49.169183Z",
          "iopub.status.idle": "2024-11-24T06:30:49.178229Z",
          "shell.execute_reply.started": "2024-11-24T06:30:49.169157Z",
          "shell.execute_reply": "2024-11-24T06:30:49.177356Z"
        },
        "trusted": true,
        "id": "x7a6f_XV3fF6"
      },
      "outputs": [],
      "execution_count": null
    },
    {
      "cell_type": "code",
      "source": [
        "# Train the XGBoost model\n",
        "num_rounds = 10\n",
        "model = xgb.train(params, dtrain, num_rounds)"
      ],
      "metadata": {
        "execution": {
          "iopub.status.busy": "2024-11-24T06:30:49.179252Z",
          "iopub.execute_input": "2024-11-24T06:30:49.179575Z",
          "iopub.status.idle": "2024-11-24T06:30:49.235207Z",
          "shell.execute_reply.started": "2024-11-24T06:30:49.179547Z",
          "shell.execute_reply": "2024-11-24T06:30:49.233709Z"
        },
        "trusted": true,
        "id": "xKgoH2wG3fF7"
      },
      "outputs": [],
      "execution_count": null
    },
    {
      "cell_type": "code",
      "source": [
        "# Make predictions on the test set\n",
        "y_pred = model.predict(dtest)"
      ],
      "metadata": {
        "execution": {
          "iopub.status.busy": "2024-11-24T06:30:49.236158Z",
          "iopub.execute_input": "2024-11-24T06:30:49.236477Z",
          "iopub.status.idle": "2024-11-24T06:30:49.251602Z",
          "shell.execute_reply.started": "2024-11-24T06:30:49.236451Z",
          "shell.execute_reply": "2024-11-24T06:30:49.248878Z"
        },
        "trusted": true,
        "id": "ZNdltTRW3fF7"
      },
      "outputs": [],
      "execution_count": null
    },
    {
      "cell_type": "code",
      "source": [
        "# Calculate the accuracy of the model\n",
        "accuracy = accuracy_score(y_test, y_pred)\n",
        "print(\"Accuracy:\", accuracy)"
      ],
      "metadata": {
        "execution": {
          "iopub.status.busy": "2024-11-24T06:30:49.252749Z",
          "iopub.execute_input": "2024-11-24T06:30:49.2556Z",
          "iopub.status.idle": "2024-11-24T06:30:49.266954Z",
          "shell.execute_reply.started": "2024-11-24T06:30:49.255563Z",
          "shell.execute_reply": "2024-11-24T06:30:49.265797Z"
        },
        "trusted": true,
        "id": "ao-Js1Po3fF7",
        "outputId": "f09e958f-d1cc-4e55-f1d5-ddb9a63ec358"
      },
      "outputs": [
        {
          "name": "stdout",
          "text": "Accuracy: 1.0\n",
          "output_type": "stream"
        }
      ],
      "execution_count": null
    },
    {
      "cell_type": "code",
      "source": [
        "print(classification_report(y_test,y_pred))"
      ],
      "metadata": {
        "execution": {
          "iopub.status.busy": "2024-11-24T06:30:49.268533Z",
          "iopub.execute_input": "2024-11-24T06:30:49.268928Z",
          "iopub.status.idle": "2024-11-24T06:30:49.288903Z",
          "shell.execute_reply.started": "2024-11-24T06:30:49.268892Z",
          "shell.execute_reply": "2024-11-24T06:30:49.287828Z"
        },
        "trusted": true,
        "id": "BySlQdcq3fF7",
        "outputId": "d3512a2f-3acf-4ec0-9517-3627811f7d35"
      },
      "outputs": [
        {
          "name": "stdout",
          "text": "              precision    recall  f1-score   support\n\n           0       1.00      1.00      1.00        82\n           1       1.00      1.00      1.00        55\n           2       1.00      1.00      1.00        63\n\n    accuracy                           1.00       200\n   macro avg       1.00      1.00      1.00       200\nweighted avg       1.00      1.00      1.00       200\n\n",
          "output_type": "stream"
        }
      ],
      "execution_count": null
    },
    {
      "cell_type": "code",
      "source": [
        "from sklearn.ensemble import AdaBoostClassifier"
      ],
      "metadata": {
        "execution": {
          "iopub.status.busy": "2024-11-24T06:30:49.290209Z",
          "iopub.execute_input": "2024-11-24T06:30:49.290526Z",
          "iopub.status.idle": "2024-11-24T06:30:49.55954Z",
          "shell.execute_reply.started": "2024-11-24T06:30:49.290499Z",
          "shell.execute_reply": "2024-11-24T06:30:49.558429Z"
        },
        "trusted": true,
        "id": "IpKEL8Uc3fF8"
      },
      "outputs": [],
      "execution_count": null
    },
    {
      "cell_type": "code",
      "source": [
        "abc = AdaBoostClassifier(n_estimators=10,\n",
        "    learning_rate=1.0,\n",
        "    algorithm='SAMME.R',\n",
        "    random_state=None,\n",
        "    base_estimator='deprecated')"
      ],
      "metadata": {
        "execution": {
          "iopub.status.busy": "2024-11-24T06:30:49.560959Z",
          "iopub.execute_input": "2024-11-24T06:30:49.56129Z",
          "iopub.status.idle": "2024-11-24T06:30:49.566976Z",
          "shell.execute_reply.started": "2024-11-24T06:30:49.561254Z",
          "shell.execute_reply": "2024-11-24T06:30:49.565763Z"
        },
        "trusted": true,
        "id": "Zvm08CDw3fF8"
      },
      "outputs": [],
      "execution_count": null
    },
    {
      "cell_type": "code",
      "source": [
        "abc.fit(X_train,y_train)"
      ],
      "metadata": {
        "execution": {
          "iopub.status.busy": "2024-11-24T06:30:49.56847Z",
          "iopub.execute_input": "2024-11-24T06:30:49.568871Z",
          "iopub.status.idle": "2024-11-24T06:30:49.621058Z",
          "shell.execute_reply.started": "2024-11-24T06:30:49.568834Z",
          "shell.execute_reply": "2024-11-24T06:30:49.619985Z"
        },
        "trusted": true,
        "id": "tGSt3qIV3fF8",
        "outputId": "64dfb697-62af-42b5-dcd4-802f5d4ba950"
      },
      "outputs": [
        {
          "execution_count": 27,
          "output_type": "execute_result",
          "data": {
            "text/plain": "AdaBoostClassifier(n_estimators=10)",
            "text/html": "<style>#sk-container-id-1 {color: black;background-color: white;}#sk-container-id-1 pre{padding: 0;}#sk-container-id-1 div.sk-toggleable {background-color: white;}#sk-container-id-1 label.sk-toggleable__label {cursor: pointer;display: block;width: 100%;margin-bottom: 0;padding: 0.3em;box-sizing: border-box;text-align: center;}#sk-container-id-1 label.sk-toggleable__label-arrow:before {content: \"▸\";float: left;margin-right: 0.25em;color: #696969;}#sk-container-id-1 label.sk-toggleable__label-arrow:hover:before {color: black;}#sk-container-id-1 div.sk-estimator:hover label.sk-toggleable__label-arrow:before {color: black;}#sk-container-id-1 div.sk-toggleable__content {max-height: 0;max-width: 0;overflow: hidden;text-align: left;background-color: #f0f8ff;}#sk-container-id-1 div.sk-toggleable__content pre {margin: 0.2em;color: black;border-radius: 0.25em;background-color: #f0f8ff;}#sk-container-id-1 input.sk-toggleable__control:checked~div.sk-toggleable__content {max-height: 200px;max-width: 100%;overflow: auto;}#sk-container-id-1 input.sk-toggleable__control:checked~label.sk-toggleable__label-arrow:before {content: \"▾\";}#sk-container-id-1 div.sk-estimator input.sk-toggleable__control:checked~label.sk-toggleable__label {background-color: #d4ebff;}#sk-container-id-1 div.sk-label input.sk-toggleable__control:checked~label.sk-toggleable__label {background-color: #d4ebff;}#sk-container-id-1 input.sk-hidden--visually {border: 0;clip: rect(1px 1px 1px 1px);clip: rect(1px, 1px, 1px, 1px);height: 1px;margin: -1px;overflow: hidden;padding: 0;position: absolute;width: 1px;}#sk-container-id-1 div.sk-estimator {font-family: monospace;background-color: #f0f8ff;border: 1px dotted black;border-radius: 0.25em;box-sizing: border-box;margin-bottom: 0.5em;}#sk-container-id-1 div.sk-estimator:hover {background-color: #d4ebff;}#sk-container-id-1 div.sk-parallel-item::after {content: \"\";width: 100%;border-bottom: 1px solid gray;flex-grow: 1;}#sk-container-id-1 div.sk-label:hover label.sk-toggleable__label {background-color: #d4ebff;}#sk-container-id-1 div.sk-serial::before {content: \"\";position: absolute;border-left: 1px solid gray;box-sizing: border-box;top: 0;bottom: 0;left: 50%;z-index: 0;}#sk-container-id-1 div.sk-serial {display: flex;flex-direction: column;align-items: center;background-color: white;padding-right: 0.2em;padding-left: 0.2em;position: relative;}#sk-container-id-1 div.sk-item {position: relative;z-index: 1;}#sk-container-id-1 div.sk-parallel {display: flex;align-items: stretch;justify-content: center;background-color: white;position: relative;}#sk-container-id-1 div.sk-item::before, #sk-container-id-1 div.sk-parallel-item::before {content: \"\";position: absolute;border-left: 1px solid gray;box-sizing: border-box;top: 0;bottom: 0;left: 50%;z-index: -1;}#sk-container-id-1 div.sk-parallel-item {display: flex;flex-direction: column;z-index: 1;position: relative;background-color: white;}#sk-container-id-1 div.sk-parallel-item:first-child::after {align-self: flex-end;width: 50%;}#sk-container-id-1 div.sk-parallel-item:last-child::after {align-self: flex-start;width: 50%;}#sk-container-id-1 div.sk-parallel-item:only-child::after {width: 0;}#sk-container-id-1 div.sk-dashed-wrapped {border: 1px dashed gray;margin: 0 0.4em 0.5em 0.4em;box-sizing: border-box;padding-bottom: 0.4em;background-color: white;}#sk-container-id-1 div.sk-label label {font-family: monospace;font-weight: bold;display: inline-block;line-height: 1.2em;}#sk-container-id-1 div.sk-label-container {text-align: center;}#sk-container-id-1 div.sk-container {/* jupyter's `normalize.less` sets `[hidden] { display: none; }` but bootstrap.min.css set `[hidden] { display: none !important; }` so we also need the `!important` here to be able to override the default hidden behavior on the sphinx rendered scikit-learn.org. See: https://github.com/scikit-learn/scikit-learn/issues/21755 */display: inline-block !important;position: relative;}#sk-container-id-1 div.sk-text-repr-fallback {display: none;}</style><div id=\"sk-container-id-1\" class=\"sk-top-container\"><div class=\"sk-text-repr-fallback\"><pre>AdaBoostClassifier(n_estimators=10)</pre><b>In a Jupyter environment, please rerun this cell to show the HTML representation or trust the notebook. <br />On GitHub, the HTML representation is unable to render, please try loading this page with nbviewer.org.</b></div><div class=\"sk-container\" hidden><div class=\"sk-item\"><div class=\"sk-estimator sk-toggleable\"><input class=\"sk-toggleable__control sk-hidden--visually\" id=\"sk-estimator-id-1\" type=\"checkbox\" checked><label for=\"sk-estimator-id-1\" class=\"sk-toggleable__label sk-toggleable__label-arrow\">AdaBoostClassifier</label><div class=\"sk-toggleable__content\"><pre>AdaBoostClassifier(n_estimators=10)</pre></div></div></div></div></div>"
          },
          "metadata": {}
        }
      ],
      "execution_count": null
    },
    {
      "cell_type": "code",
      "source": [
        "y_pred1 = abc.predict(X_test)"
      ],
      "metadata": {
        "execution": {
          "iopub.status.busy": "2024-11-24T06:30:49.625821Z",
          "iopub.execute_input": "2024-11-24T06:30:49.626161Z",
          "iopub.status.idle": "2024-11-24T06:30:49.638776Z",
          "shell.execute_reply.started": "2024-11-24T06:30:49.626133Z",
          "shell.execute_reply": "2024-11-24T06:30:49.637628Z"
        },
        "trusted": true,
        "id": "vPvxhY8q3fF8"
      },
      "outputs": [],
      "execution_count": null
    },
    {
      "cell_type": "code",
      "source": [
        "print(classification_report(y_test,y_pred1))"
      ],
      "metadata": {
        "execution": {
          "iopub.status.busy": "2024-11-24T06:30:49.640496Z",
          "iopub.execute_input": "2024-11-24T06:30:49.640957Z",
          "iopub.status.idle": "2024-11-24T06:30:49.66269Z",
          "shell.execute_reply.started": "2024-11-24T06:30:49.640892Z",
          "shell.execute_reply": "2024-11-24T06:30:49.661246Z"
        },
        "trusted": true,
        "id": "NSSHvuUx3fF9",
        "outputId": "02730cfb-4a26-4730-8d88-8f3f6c7487e2"
      },
      "outputs": [
        {
          "name": "stdout",
          "text": "              precision    recall  f1-score   support\n\n           0       1.00      1.00      1.00        82\n           1       0.00      0.00      0.00        55\n           2       0.53      1.00      0.70        63\n\n    accuracy                           0.73       200\n   macro avg       0.51      0.67      0.57       200\nweighted avg       0.58      0.72      0.63       200\n\n",
          "output_type": "stream"
        },
        {
          "name": "stderr",
          "text": "/opt/conda/lib/python3.10/site-packages/sklearn/metrics/_classification.py:1344: UndefinedMetricWarning: Precision and F-score are ill-defined and being set to 0.0 in labels with no predicted samples. Use `zero_division` parameter to control this behavior.\n  _warn_prf(average, modifier, msg_start, len(result))\n/opt/conda/lib/python3.10/site-packages/sklearn/metrics/_classification.py:1344: UndefinedMetricWarning: Precision and F-score are ill-defined and being set to 0.0 in labels with no predicted samples. Use `zero_division` parameter to control this behavior.\n  _warn_prf(average, modifier, msg_start, len(result))\n/opt/conda/lib/python3.10/site-packages/sklearn/metrics/_classification.py:1344: UndefinedMetricWarning: Precision and F-score are ill-defined and being set to 0.0 in labels with no predicted samples. Use `zero_division` parameter to control this behavior.\n  _warn_prf(average, modifier, msg_start, len(result))\n",
          "output_type": "stream"
        }
      ],
      "execution_count": null
    },
    {
      "cell_type": "code",
      "source": [
        "from sklearn.ensemble import  RandomForestClassifier"
      ],
      "metadata": {
        "execution": {
          "iopub.status.busy": "2024-11-24T06:30:49.664215Z",
          "iopub.execute_input": "2024-11-24T06:30:49.665989Z",
          "iopub.status.idle": "2024-11-24T06:30:49.670972Z",
          "shell.execute_reply.started": "2024-11-24T06:30:49.665955Z",
          "shell.execute_reply": "2024-11-24T06:30:49.669684Z"
        },
        "trusted": true,
        "id": "5hgSe9Lb3fF9"
      },
      "outputs": [],
      "execution_count": null
    },
    {
      "cell_type": "code",
      "source": [
        "rf = RandomForestClassifier(n_estimators=100\n",
        "    ,criterion='gini')"
      ],
      "metadata": {
        "execution": {
          "iopub.status.busy": "2024-11-24T06:30:49.67229Z",
          "iopub.execute_input": "2024-11-24T06:30:49.672671Z",
          "iopub.status.idle": "2024-11-24T06:30:49.682129Z",
          "shell.execute_reply.started": "2024-11-24T06:30:49.672642Z",
          "shell.execute_reply": "2024-11-24T06:30:49.681161Z"
        },
        "trusted": true,
        "id": "Lum27mt33fF-"
      },
      "outputs": [],
      "execution_count": null
    },
    {
      "cell_type": "code",
      "source": [
        "rf.fit(X_train,y_train)"
      ],
      "metadata": {
        "execution": {
          "iopub.status.busy": "2024-11-24T06:30:49.683483Z",
          "iopub.execute_input": "2024-11-24T06:30:49.683922Z",
          "iopub.status.idle": "2024-11-24T06:30:49.886019Z",
          "shell.execute_reply.started": "2024-11-24T06:30:49.683894Z",
          "shell.execute_reply": "2024-11-24T06:30:49.88473Z"
        },
        "trusted": true,
        "id": "ELmNra3Q3fF-",
        "outputId": "fa082d30-171a-4349-8728-a81172db7059"
      },
      "outputs": [
        {
          "execution_count": 32,
          "output_type": "execute_result",
          "data": {
            "text/plain": "RandomForestClassifier()",
            "text/html": "<style>#sk-container-id-2 {color: black;background-color: white;}#sk-container-id-2 pre{padding: 0;}#sk-container-id-2 div.sk-toggleable {background-color: white;}#sk-container-id-2 label.sk-toggleable__label {cursor: pointer;display: block;width: 100%;margin-bottom: 0;padding: 0.3em;box-sizing: border-box;text-align: center;}#sk-container-id-2 label.sk-toggleable__label-arrow:before {content: \"▸\";float: left;margin-right: 0.25em;color: #696969;}#sk-container-id-2 label.sk-toggleable__label-arrow:hover:before {color: black;}#sk-container-id-2 div.sk-estimator:hover label.sk-toggleable__label-arrow:before {color: black;}#sk-container-id-2 div.sk-toggleable__content {max-height: 0;max-width: 0;overflow: hidden;text-align: left;background-color: #f0f8ff;}#sk-container-id-2 div.sk-toggleable__content pre {margin: 0.2em;color: black;border-radius: 0.25em;background-color: #f0f8ff;}#sk-container-id-2 input.sk-toggleable__control:checked~div.sk-toggleable__content {max-height: 200px;max-width: 100%;overflow: auto;}#sk-container-id-2 input.sk-toggleable__control:checked~label.sk-toggleable__label-arrow:before {content: \"▾\";}#sk-container-id-2 div.sk-estimator input.sk-toggleable__control:checked~label.sk-toggleable__label {background-color: #d4ebff;}#sk-container-id-2 div.sk-label input.sk-toggleable__control:checked~label.sk-toggleable__label {background-color: #d4ebff;}#sk-container-id-2 input.sk-hidden--visually {border: 0;clip: rect(1px 1px 1px 1px);clip: rect(1px, 1px, 1px, 1px);height: 1px;margin: -1px;overflow: hidden;padding: 0;position: absolute;width: 1px;}#sk-container-id-2 div.sk-estimator {font-family: monospace;background-color: #f0f8ff;border: 1px dotted black;border-radius: 0.25em;box-sizing: border-box;margin-bottom: 0.5em;}#sk-container-id-2 div.sk-estimator:hover {background-color: #d4ebff;}#sk-container-id-2 div.sk-parallel-item::after {content: \"\";width: 100%;border-bottom: 1px solid gray;flex-grow: 1;}#sk-container-id-2 div.sk-label:hover label.sk-toggleable__label {background-color: #d4ebff;}#sk-container-id-2 div.sk-serial::before {content: \"\";position: absolute;border-left: 1px solid gray;box-sizing: border-box;top: 0;bottom: 0;left: 50%;z-index: 0;}#sk-container-id-2 div.sk-serial {display: flex;flex-direction: column;align-items: center;background-color: white;padding-right: 0.2em;padding-left: 0.2em;position: relative;}#sk-container-id-2 div.sk-item {position: relative;z-index: 1;}#sk-container-id-2 div.sk-parallel {display: flex;align-items: stretch;justify-content: center;background-color: white;position: relative;}#sk-container-id-2 div.sk-item::before, #sk-container-id-2 div.sk-parallel-item::before {content: \"\";position: absolute;border-left: 1px solid gray;box-sizing: border-box;top: 0;bottom: 0;left: 50%;z-index: -1;}#sk-container-id-2 div.sk-parallel-item {display: flex;flex-direction: column;z-index: 1;position: relative;background-color: white;}#sk-container-id-2 div.sk-parallel-item:first-child::after {align-self: flex-end;width: 50%;}#sk-container-id-2 div.sk-parallel-item:last-child::after {align-self: flex-start;width: 50%;}#sk-container-id-2 div.sk-parallel-item:only-child::after {width: 0;}#sk-container-id-2 div.sk-dashed-wrapped {border: 1px dashed gray;margin: 0 0.4em 0.5em 0.4em;box-sizing: border-box;padding-bottom: 0.4em;background-color: white;}#sk-container-id-2 div.sk-label label {font-family: monospace;font-weight: bold;display: inline-block;line-height: 1.2em;}#sk-container-id-2 div.sk-label-container {text-align: center;}#sk-container-id-2 div.sk-container {/* jupyter's `normalize.less` sets `[hidden] { display: none; }` but bootstrap.min.css set `[hidden] { display: none !important; }` so we also need the `!important` here to be able to override the default hidden behavior on the sphinx rendered scikit-learn.org. See: https://github.com/scikit-learn/scikit-learn/issues/21755 */display: inline-block !important;position: relative;}#sk-container-id-2 div.sk-text-repr-fallback {display: none;}</style><div id=\"sk-container-id-2\" class=\"sk-top-container\"><div class=\"sk-text-repr-fallback\"><pre>RandomForestClassifier()</pre><b>In a Jupyter environment, please rerun this cell to show the HTML representation or trust the notebook. <br />On GitHub, the HTML representation is unable to render, please try loading this page with nbviewer.org.</b></div><div class=\"sk-container\" hidden><div class=\"sk-item\"><div class=\"sk-estimator sk-toggleable\"><input class=\"sk-toggleable__control sk-hidden--visually\" id=\"sk-estimator-id-2\" type=\"checkbox\" checked><label for=\"sk-estimator-id-2\" class=\"sk-toggleable__label sk-toggleable__label-arrow\">RandomForestClassifier</label><div class=\"sk-toggleable__content\"><pre>RandomForestClassifier()</pre></div></div></div></div></div>"
          },
          "metadata": {}
        }
      ],
      "execution_count": null
    },
    {
      "cell_type": "code",
      "source": [
        "y_pred2= rf.predict(X_test)"
      ],
      "metadata": {
        "execution": {
          "iopub.status.busy": "2024-11-24T06:30:49.887438Z",
          "iopub.execute_input": "2024-11-24T06:30:49.88783Z",
          "iopub.status.idle": "2024-11-24T06:30:49.905022Z",
          "shell.execute_reply.started": "2024-11-24T06:30:49.887794Z",
          "shell.execute_reply": "2024-11-24T06:30:49.903843Z"
        },
        "trusted": true,
        "id": "iNtdp8ZX3fF-"
      },
      "outputs": [],
      "execution_count": null
    },
    {
      "cell_type": "code",
      "source": [
        "print(classification_report(y_test,y_pred2))"
      ],
      "metadata": {
        "execution": {
          "iopub.status.busy": "2024-11-24T06:30:49.906714Z",
          "iopub.execute_input": "2024-11-24T06:30:49.907113Z",
          "iopub.status.idle": "2024-11-24T06:30:49.92345Z",
          "shell.execute_reply.started": "2024-11-24T06:30:49.907077Z",
          "shell.execute_reply": "2024-11-24T06:30:49.92242Z"
        },
        "trusted": true,
        "id": "9wBi0ADq3fGC",
        "outputId": "d51bd4ab-90f0-4bde-f616-7eec1efb9e66"
      },
      "outputs": [
        {
          "name": "stdout",
          "text": "              precision    recall  f1-score   support\n\n           0       1.00      1.00      1.00        82\n           1       1.00      1.00      1.00        55\n           2       1.00      1.00      1.00        63\n\n    accuracy                           1.00       200\n   macro avg       1.00      1.00      1.00       200\nweighted avg       1.00      1.00      1.00       200\n\n",
          "output_type": "stream"
        }
      ],
      "execution_count": null
    },
    {
      "cell_type": "code",
      "source": [],
      "metadata": {
        "trusted": true,
        "id": "7wYuAX2T3fGD"
      },
      "outputs": [],
      "execution_count": null
    }
  ]
}